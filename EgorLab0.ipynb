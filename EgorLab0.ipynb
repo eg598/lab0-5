{
 "cells": [
  {
   "cell_type": "code",
   "execution_count": 1,
   "id": "81aa4b47",
   "metadata": {
    "scrolled": true
   },
   "outputs": [
    {
     "name": "stdout",
     "output_type": "stream",
     "text": [
      "10\n"
     ]
    }
   ],
   "source": [
    "N = ord(\"E\") % 10 + 1\n",
    "print(N)"
   ]
  },
  {
   "cell_type": "markdown",
   "id": "7131fdfb",
   "metadata": {},
   "source": [
    "# Норвегія\n",
    "## Площа Норвегії: 385 207 км²\n",
    "### Кількість населення: 5,52 міліона\n",
    "#### Державний устрій: конституційна монархія"
   ]
  },
  {
   "cell_type": "markdown",
   "id": "5d155bb9",
   "metadata": {},
   "source": [
    "Країна має _довгу лінію_ східного сухопутного кордону зі Швецією (протяжністю **1619 км**)."
   ]
  },
  {
   "cell_type": "markdown",
   "id": "261c7767",
   "metadata": {},
   "source": [
    "<p style=\"color:pink;\">Офіційна назва — Королі́вство Норве́гія</p>\n",
    "<p style=\"color:yellow;\">Норвегія — суверенна демократична парламентська конституційна монархія унітарного устрою</p>\n",
    "<p style=\"color:brown; font-weight: bold;\">4 квітня 1949 року Норвегія вступила в блок НАТО</p>"
   ]
  },
  {
   "cell_type": "markdown",
   "id": "f28d4f57",
   "metadata": {},
   "source": [
    "<div style=\"border: 5px solid black; padding: 30px; border-radius: 15px;\">\n",
    "Норвегія\n",
    "</div>"
   ]
  },
  {
   "cell_type": "markdown",
   "id": "3722b006",
   "metadata": {},
   "source": [
    "<font size=5 color='green'>Плоша</font>|<font size=5 color='green'>Населення</font>\n",
    "-|-\n",
    "<font size=3 color='blue'>385 207 км²</font>|<font size=3, color='blue'>5,52 міліона<font>"
   ]
  },
  {
   "cell_type": "markdown",
   "id": "66244c89",
   "metadata": {},
   "source": [
    "**Факти про Норвегію**\n",
    "- Норвегія славиться своїми фіордами і північним сяйвом.\n",
    "- Норвегія має один з найвищих рівнів життя в світі завдяки своїй соціальній системі."
   ]
  },
  {
   "cell_type": "markdown",
   "id": "b500e400",
   "metadata": {},
   "source": [
    "<img src=\"https://dynamic-media-cdn.tripadvisor.com/media/photo-o/17/90/45/f3/a-noruega-fica-no-norte.jpg?w=900&h=900&s=1\" alt=\"Норвегія\" width=\"400\">"
   ]
  },
  {
   "cell_type": "markdown",
   "id": "aaa0064d",
   "metadata": {},
   "source": [
    "<img src=\"norway3.png\" alt=\"Норвегія\" width=\"400\">\n"
   ]
  },
  {
   "cell_type": "markdown",
   "id": "e469b1fc",
   "metadata": {},
   "source": [
    "[Інформація про Норвегію](https://uk.wikipedia.org/wiki/Норвегія)"
   ]
  },
  {
   "cell_type": "code",
   "execution_count": 2,
   "id": "39676561",
   "metadata": {},
   "outputs": [
    {
     "data": {
      "text/html": [
       "<svg width=\"640\" height=\"461\">\n",
       "  <rect width=\"640\" height=\"461\" fill=\"#bb042b\" />\n",
       "    <rect x=\"150\" width=\"70\" height=\"461\" fill=\"#FFFFFF\" />\n",
       "    <rect y=\"195.5\" width=\"640\" height=\"70\" fill=\"#FFFFFF\" />\n",
       "    <rect x=\"165\" width=\"40\" height=\"461\" fill=\"#001a5b\" />\n",
       "  <rect y=\"210.5\" width=\"640\" height=\"40\" fill=\"#001a5b\" />\n",
       "</svg>\n"
      ],
      "text/plain": [
       "<IPython.core.display.HTML object>"
      ]
     },
     "metadata": {},
     "output_type": "display_data"
    }
   ],
   "source": [
    "%%html\n",
    "<svg width=\"640\" height=\"461\">\n",
    "  <rect width=\"640\" height=\"461\" fill=\"#bb042b\" />\n",
    "    <rect x=\"150\" width=\"70\" height=\"461\" fill=\"#FFFFFF\" />\n",
    "    <rect y=\"195.5\" width=\"640\" height=\"70\" fill=\"#FFFFFF\" />\n",
    "    <rect x=\"165\" width=\"40\" height=\"461\" fill=\"#001a5b\" />\n",
    "  <rect y=\"210.5\" width=\"640\" height=\"40\" fill=\"#001a5b\" />\n",
    "</svg>"
   ]
  },
  {
   "cell_type": "code",
   "execution_count": 3,
   "id": "3b4547a2",
   "metadata": {},
   "outputs": [
    {
     "name": "stdout",
     "output_type": "stream",
     "text": [
      "2^2 + 11^2 = 125\n"
     ]
    }
   ],
   "source": [
    "def find_square_sum_representation(number):\n",
    "    if not isinstance(number, int) or number <= 0:\n",
    "        return \"Помилка: введене число має бути додатнім цілим числом.\"\n",
    "    \n",
    "    max_limit = int(number**0.5) + 1\n",
    "    for x in range(1, max_limit):\n",
    "        for y in range(x, max_limit):\n",
    "            if x**2 + y**2 == number:\n",
    "                return f\"{x}^2 + {y}^2 = {number}\"\n",
    "    \n",
    "    return f\"Число {number} не можна подати як суму квадратів цілих чисел.\"\n",
    "\n",
    "print(find_square_sum_representation(125))"
   ]
  },
  {
   "cell_type": "code",
   "execution_count": 4,
   "id": "01a22e64",
   "metadata": {},
   "outputs": [
    {
     "name": "stdout",
     "output_type": "stream",
     "text": [
      "Число 11111 не можна подати як суму квадратів цілих чисел.\n"
     ]
    }
   ],
   "source": [
    "print(find_square_sum_representation(11111))"
   ]
  },
  {
   "cell_type": "code",
   "execution_count": null,
   "id": "5b94c455",
   "metadata": {},
   "outputs": [],
   "source": []
  }
 ],
 "metadata": {
  "kernelspec": {
   "display_name": "Python 3 (ipykernel)",
   "language": "python",
   "name": "python3"
  },
  "language_info": {
   "codemirror_mode": {
    "name": "ipython",
    "version": 3
   },
   "file_extension": ".py",
   "mimetype": "text/x-python",
   "name": "python",
   "nbconvert_exporter": "python",
   "pygments_lexer": "ipython3",
   "version": "3.7.1"
  }
 },
 "nbformat": 4,
 "nbformat_minor": 5
}
